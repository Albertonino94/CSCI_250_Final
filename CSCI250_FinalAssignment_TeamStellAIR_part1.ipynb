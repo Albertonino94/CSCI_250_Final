{
  "cells": [
    {
      "cell_type": "markdown",
      "source": [
        "<div style=\"text-align:center\">\n",
        "    \n",
        "# Pneumonia Detection from Chest X-rays\n",
        "\n",
        "### Palomar College Final Project Fall 2022\n",
        "\n",
        "#### Team Stell\\*AI\\*r<br><br>\n",
        "    \n",
        "#### Marjolein Legge-Beekman (Team Leader)<br> \n",
        "#### Alberto Delgado<br>\n",
        "#### Wesley Newcomb <br>\n",
        "#### Paul Sandeen <br>\n",
        "#### Martin Zamora<br><br>\n",
        "\n",
        "Part 1 - Machine Learning (Support Vector Machines, Decision Trees, K-Nearest Neighbors)<br>\n",
        "Deep Learning (Artificial Nerual Network)\n",
        "    \n",
        "</div>"
      ],
      "metadata": {
        "id": "MrcL9xNEaap-"
      }
    },
    {
      "cell_type": "markdown",
      "source": [
        "## Introduction"
      ],
      "metadata": {
        "id": "zoBgTTLHbTaZ"
      }
    },
    {
      "cell_type": "markdown",
      "source": [
        "This project uses publicly available labeled chest X-ray image data of healthy patients and patients with Pneumonia. The X-ray image data will be used to train a classification algorithm to simulate making a diagnosis  for Pneumonia. Different sizes of training data will be used to perform a regression analysis to determine the optimal size of the training set."
      ],
      "metadata": {
        "id": "DCRbGkjebWvr"
      }
    },
    {
      "cell_type": "markdown",
      "source": [
        "## Intended Audience"
      ],
      "metadata": {
        "id": "1yq4tbTUbcDf"
      }
    },
    {
      "cell_type": "markdown",
      "source": [
        "The project assumes familiarity with the Python programming language and its associated libraries, including Numpy, pandas, matplotlib, Scikit-learn, Tensorflow, and Keras. A basic understanding of machine learning techniques is required."
      ],
      "metadata": {
        "id": "CoUcELqAbgTm"
      }
    },
    {
      "cell_type": "markdown",
      "source": [
        "## Data Source"
      ],
      "metadata": {
        "id": "mAx3Dd3KbjEA"
      }
    },
    {
      "cell_type": "markdown",
      "source": [
        "The original data used for this project is publicy available from:\n",
        "\"Chest X-Ray Images (Pneumonia)\"\n",
        "https://www.kaggle.com/datasets/paultimothymooney/chest-xray-pneumonia/discussion\n",
        "<br>The dataset is maintained by Paul Mooney"
      ],
      "metadata": {
        "id": "LadgBKysbnZw"
      }
    },
    {
      "cell_type": "code",
      "execution_count": null,
      "metadata": {
        "id": "HuDB9RbTVScC"
      },
      "outputs": [],
      "source": []
    },
    {
      "cell_type": "code",
      "execution_count": null,
      "metadata": {
        "id": "5yHPeovVU3ip",
        "colab": {
          "base_uri": "https://localhost:8080/"
        },
        "outputId": "d9134853-c12c-478c-97bf-c104bb1ad7c0"
      },
      "outputs": [
        {
          "output_type": "stream",
          "name": "stdout",
          "text": [
            "Mounted at /content/gdrive/\n"
          ]
        }
      ],
      "source": [
        "# Connect to the Google Colab environment to Google Drive data store\n",
        "# (Must be run everytime a new Colab environment is created)\n",
        "\n",
        "# Import the Colab drive mapping library\n",
        "from google.colab import drive\n",
        "\n",
        "# Map the drive mountpoint\n",
        "drive.mount('/content/gdrive/', force_remount=True)\n"
      ]
    },
    {
      "cell_type": "code",
      "source": [
        "# Import the essential data science libraries\n",
        "import numpy as np\n",
        "import pandas as pd\n",
        "import matplotlib.pyplot as plt\n",
        "from matplotlib import image\n",
        "import seaborn as sns\n"
      ],
      "metadata": {
        "id": "GOMI5oFEcUHa"
      },
      "execution_count": null,
      "outputs": []
    },
    {
      "cell_type": "code",
      "source": [
        "# Import the machine learning libraries from scikit-learn \n",
        "from sklearn.metrics import classification_report, confusion_matrix\n",
        "from sklearn.model_selection import train_test_split\n",
        "from sklearn.metrics import accuracy_score\n",
        "from sklearn.svm import SVC\n",
        "from sklearn.tree import DecisionTreeClassifier\n",
        "from sklearn.neighbors import KNeighborsClassifier"
      ],
      "metadata": {
        "id": "5HEg8AGmc1g5"
      },
      "execution_count": null,
      "outputs": []
    },
    {
      "cell_type": "code",
      "source": [
        "# Import libraries for OS filesytem and image manipulation\n",
        "import os\n",
        "from PIL import Image"
      ],
      "metadata": {
        "id": "pbiEFCDldBX6"
      },
      "execution_count": null,
      "outputs": []
    },
    {
      "cell_type": "code",
      "execution_count": null,
      "metadata": {
        "id": "5JWnvfWcofrq"
      },
      "outputs": [],
      "source": [
        "# Import TensorFlow and Keras libraries\n",
        "import tensorflow as tf\n",
        "from tensorflow import keras\n",
        "import cv2\n",
        "from tqdm import tqdm\n",
        "from keras.models import Sequential\n",
        "from keras.layers import Flatten\n",
        "from keras.layers import Dense\n",
        "from keras.preprocessing.image import ImageDataGenerator\n",
        "from keras_preprocessing.image import load_img\n",
        "from keras import backend as keras\n",
        "from keras.models import Model\n",
        "#from keras.models import Input\n",
        "from tensorflow.keras import Input\n",
        "from keras.models import load_model\n",
        "from tensorflow.keras.optimizers import Adam\n",
        "from keras.wrappers.scikit_learn import KerasClassifier\n",
        "from sklearn.model_selection import cross_val_score\n",
        "from keras.models import Sequential # Neural network library\n",
        "from keras.layers import Dense\n"
      ]
    },
    {
      "cell_type": "code",
      "execution_count": null,
      "metadata": {
        "colab": {
          "base_uri": "https://localhost:8080/",
          "height": 286
        },
        "id": "mPhGEsv1ofQH",
        "outputId": "a02b0d91-538c-45e3-da5e-5c0d9eab3920"
      },
      "outputs": [
        {
          "output_type": "execute_result",
          "data": {
            "text/plain": [
              "<matplotlib.image.AxesImage at 0x7f6c9d4a4e80>"
            ]
          },
          "metadata": {},
          "execution_count": 7
        },
        {
          "output_type": "display_data",
          "data": {
            "text/plain": [
              "<Figure size 432x288 with 1 Axes>"
            ],
            "image/png": "[encoded data removed]"
          },
          "metadata": {
            "needs_background": "light"
          }
        }
      ],
      "source": [
        "# Display a sample image of a NORMAL chest X-ray\n",
        "image_normal=image.imread(r\"/content/gdrive/MyDrive/CSCI250_Data/archive/chest_xray/test/NORMAL/IM-0001-0001.jpeg\")\n",
        "plt.imshow(image_normal)"
      ]
    },
    {
      "cell_type": "code",
      "execution_count": null,
      "metadata": {
        "colab": {
          "base_uri": "https://localhost:8080/",
          "height": 286
        },
        "id": "c5CiIwO-p2WY",
        "outputId": "97600b15-b3a4-4182-8b41-9091e7851999"
      },
      "outputs": [
        {
          "output_type": "execute_result",
          "data": {
            "text/plain": [
              "<matplotlib.image.AxesImage at 0x7f6c9cf8c7f0>"
            ]
          },
          "metadata": {},
          "execution_count": 8
        },
        {
          "output_type": "display_data",
          "data": {
            "text/plain": [
              "<Figure size 432x288 with 1 Axes>"
            ],
            "image/png": "[encoded data removed]"
          },
          "metadata": {
            "needs_background": "light"
          }
        }
      ],
      "source": [
        "# Display a sample image of a PNEUMONIA chest X-ray\n",
        "image_pneumonia=image.imread(r\"/content/gdrive/MyDrive/CSCI250_Data/archive/chest_xray/test/PNEUMONIA/person100_bacteria_475.jpeg\")\n",
        "plt.imshow(image_pneumonia)"
      ]
    },
    {
      "cell_type": "code",
      "execution_count": null,
      "metadata": {
        "id": "MNNNDhKAqlQi"
      },
      "outputs": [],
      "source": [
        "# Map directories for NORMAL and PNEUMONIA image training data\n",
        "normal_train = os.listdir(r\"/content/gdrive/MyDrive/CSCI250_Data/archive/chest_xray/train/NORMAL\")\n",
        "pneumonia_train = os.listdir(r\"/content/gdrive/MyDrive/CSCI250_Data/archive/chest_xray/train/PNEUMONIA\")"
      ]
    },
    {
      "cell_type": "code",
      "execution_count": null,
      "metadata": {
        "id": "8G_Ac68LrIjc"
      },
      "outputs": [],
      "source": [
        "# Create a list to hold the images and labels for training data\n",
        "image_array_train =[]\n",
        "labels_train = []"
      ]
    },
    {
      "cell_type": "code",
      "execution_count": null,
      "metadata": {
        "id": "MLSaERYsrM1Z"
      },
      "outputs": [],
      "source": [
        "# Read the NORMAL traing data\n",
        "for img in normal_train:\n",
        "    try:\n",
        "      image = cv2.imread(r\"/content/gdrive/MyDrive/CSCI250_Data/archive/chest_xray/train/NORMAL/\" + img)\n",
        "      image_from_array = Image.fromarray(image, 'RGB')  # Read in the image with PIL image function in color mode.\n",
        "      resize_img = image_from_array.resize((32, 32))    # Resize the image to 32 * 32\n",
        "      image_array_train.append(np.array(resize_img))\n",
        "      labels_train.append(0)\n",
        "        \n",
        "    except AttributeError:\n",
        "        print(\"An error occured while reading in the image\")"
      ]
    },
    {
      "cell_type": "code",
      "execution_count": null,
      "metadata": {
        "id": "h3hmR9npvUf7"
      },
      "outputs": [],
      "source": [
        "# Read the PNEUMONIA traing data\n",
        "for img in pneumonia_train:\n",
        "    try:\n",
        "        image=cv2.imread(r\"/content/gdrive/MyDrive/CSCI250_Data/archive/chest_xray/train/PNEUMONIA/\" + img)\n",
        "        image_from_array = Image.fromarray(image, 'RGB')  # Read in the image with PIL image function in color mode.\n",
        "        resize_img = image_from_array.resize((32, 32))    # Resize the image to 32 * 32\n",
        "        image_array_train.append(np.array(resize_img))\n",
        "        labels_train.append(1)\n",
        "        \n",
        "    except AttributeError:\n",
        "        print(\"An error occur while reading the image\")"
      ]
    },
    {
      "cell_type": "code",
      "execution_count": null,
      "metadata": {
        "id": "z_DAiiQaz4IP"
      },
      "outputs": [],
      "source": [
        "# Map directories for NORMAL and PNEUMONIA image test data\n",
        "Normal_test = os.listdir(r\"/content/gdrive/MyDrive/CSCI250_Data/archive/chest_xray/test/NORMAL\")\n",
        "Pneumonia_test = os.listdir(r\"/content/gdrive/MyDrive/CSCI250_Data/archive/chest_xray/test/PNEUMONIA\")"
      ]
    },
    {
      "cell_type": "code",
      "execution_count": null,
      "metadata": {
        "id": "q9A0D87a0OF_"
      },
      "outputs": [],
      "source": [
        "# Map directories for NORMAL and PNEUMONIA image test data\n",
        "image_arr_test =[]\n",
        "labels_test = []\n"
      ]
    },
    {
      "cell_type": "code",
      "execution_count": null,
      "metadata": {
        "id": "fEeSByE30Utd"
      },
      "outputs": [],
      "source": [
        "# Read the NORMAL testing data\n",
        "for img in Normal_test:\n",
        "    try:\n",
        "        image = cv2.imread(r\"/content/gdrive/MyDrive/CSCI250_Data/archive/chest_xray/test/NORMAL/\" + img)\n",
        "        image_from_array = Image.fromarray(image, 'RGB')  #Read in the image with PIL image function in colour mode.\n",
        "        resize_img = image_from_array.resize((32, 32))    #Resize the image to 32 * 32\n",
        "        image_arr_test.append(np.array(resize_img))\n",
        "        labels_test.append(0)\n",
        "        \n",
        "\n",
        "    except AttributeError:\n",
        "      print(\"An error occured while reading in the image\")"
      ]
    },
    {
      "cell_type": "code",
      "execution_count": null,
      "metadata": {
        "id": "6ElcS5s-0mHl"
      },
      "outputs": [],
      "source": [
        "# Read the PNEUMONIA testing data\n",
        "for img in Pneumonia_test:\n",
        "    try:\n",
        "        image=cv2.imread(r\"/content/gdrive/MyDrive/CSCI250_Data/archive/chest_xray/test/PNEUMONIA/\"  + img)\n",
        "        image_from_array = Image.fromarray(image, 'RGB')\n",
        "        resize_img = image_from_array.resize((32, 32))\n",
        "        image_arr_test.append(np.array(resize_img))\n",
        "        labels_test.append(1)\n",
        "        \n",
        "    except AttributeError:\n",
        "        print(\"An error occur while reading the image\")"
      ]
    },
    {
      "cell_type": "code",
      "execution_count": null,
      "metadata": {
        "id": "OzzXPvA2110o"
      },
      "outputs": [],
      "source": [
        "# Place the training data and labels into NumPy arrays\n",
        "train_data = np.array(image_array_train)\n",
        "train_labels = np.array(labels_train)\n",
        "idx = np.arange(train_data.shape[0])\n",
        "np.random.shuffle(idx)\n",
        "train_data = train_data[idx]\n",
        "train_labels = train_labels[idx]"
      ]
    },
    {
      "cell_type": "code",
      "execution_count": null,
      "metadata": {
        "id": "Zngb8kUH12ej"
      },
      "outputs": [],
      "source": [
        "# Place the testing data and labels into MumPy arrays\n",
        "test_data = np.array(image_arr_test)\n",
        "test_labels = np.array(labels_test)\n",
        "idxt = np.arange(test_data.shape[0])\n",
        "np.random.shuffle(idxt)\n",
        "test_data = test_data[idxt]\n",
        "test_labels = test_labels[idxt]"
      ]
    },
    {
      "cell_type": "code",
      "execution_count": null,
      "metadata": {
        "colab": {
          "base_uri": "https://localhost:8080/"
        },
        "id": "lXU8wTFr18Mx",
        "outputId": "0b5d9c86-805f-4f18-eb80-5b626de91f1c"
      },
      "outputs": [
        {
          "output_type": "stream",
          "name": "stdout",
          "text": [
            "(5216, 32, 32, 3)\n",
            "(5216,)\n",
            "(624, 32, 32, 3)\n",
            "(624,)\n"
          ]
        }
      ],
      "source": [
        "# Print the shape of the train and test data NumPy arrays\n",
        "print(train_data.shape)\n",
        "print(train_labels.shape)\n",
        "print(test_data.shape)\n",
        "print(test_labels.shape)"
      ]
    },
    {
      "cell_type": "code",
      "execution_count": null,
      "metadata": {
        "colab": {
          "base_uri": "https://localhost:8080/"
        },
        "id": "WPtUV70F1_BD",
        "outputId": "6a0060b7-3095-4918-f2ac-64539a0199d0"
      },
      "outputs": [
        {
          "output_type": "stream",
          "name": "stdout",
          "text": [
            "(5216, 1)\n",
            "(624, 1)\n"
          ]
        }
      ],
      "source": [
        "# Print the shape of the test and train label NumPy arrays\n",
        "test_labels=test_labels.reshape(test_labels.shape[0],1)\n",
        "train_labels=train_labels.reshape(train_labels.shape[0],1)\n",
        "print(train_labels.shape)\n",
        "print(test_labels.shape)"
      ]
    },
    {
      "cell_type": "code",
      "source": [
        "###############################################"
      ],
      "metadata": {
        "id": "PpBGv2zoUWFS"
      },
      "execution_count": null,
      "outputs": []
    },
    {
      "cell_type": "code",
      "source": [],
      "metadata": {
        "id": "9kiuSdZcUXyt"
      },
      "execution_count": null,
      "outputs": []
    },
    {
      "cell_type": "code",
      "execution_count": null,
      "metadata": {
        "id": "gQTPhDam2Eds"
      },
      "outputs": [],
      "source": [
        "# Perform the scikit-learn train-test-split\n",
        "X_train, X_test, Y_train, Y_test = train_test_split(train_data, train_labels, test_size=0.2, random_state=34)\n",
        "number_of_train = X_train.shape[0]\n",
        "number_of_test = X_test.shape[0]"
      ]
    },
    {
      "cell_type": "code",
      "execution_count": null,
      "metadata": {
        "colab": {
          "base_uri": "https://localhost:8080/"
        },
        "id": "KcGviAEzp2Kw",
        "outputId": "8a5fb17a-4c83-4c6b-c731-4f4f2eba4460"
      },
      "outputs": [
        {
          "output_type": "stream",
          "name": "stdout",
          "text": [
            "X train flatten (4172, 3072)\n",
            "X test flatten (1044, 3072)\n"
          ]
        }
      ],
      "source": [
        "# Flatten the arays and display the results\n",
        "X_train_flatten = X_train.reshape(number_of_train,X_train.shape[1]*X_train.shape[2]*X_train.shape[3])\n",
        "X_test_flatten = X_test .reshape(number_of_test,X_test.shape[1]*X_test.shape[2]*X_test.shape[3])\n",
        "print(\"X train flatten\",X_train_flatten.shape)\n",
        "print(\"X test flatten\",X_test_flatten.shape)"
      ]
    },
    {
      "cell_type": "code",
      "execution_count": null,
      "metadata": {
        "colab": {
          "base_uri": "https://localhost:8080/"
        },
        "id": "uUZOd8102Mq6",
        "outputId": "80d43a35-93cd-4823-818f-a6a8d5ee35ad"
      },
      "outputs": [
        {
          "output_type": "stream",
          "name": "stdout",
          "text": [
            "y train:  (4172, 1)\n",
            "y test:  (1044, 1)\n"
          ]
        }
      ],
      "source": [
        "# Show the label data\n",
        "print(\"y train: \",Y_train.shape)\n",
        "print(\"y test: \",Y_test.shape)"
      ]
    },
    {
      "cell_type": "code",
      "execution_count": null,
      "metadata": {
        "colab": {
          "base_uri": "https://localhost:8080/"
        },
        "id": "jjbX1svv2RFJ",
        "outputId": "1d4095b6-2484-4f06-8482-a58cd133a2d1"
      },
      "outputs": [
        {
          "output_type": "stream",
          "name": "stdout",
          "text": [
            "x train:  (4172, 3072)\n",
            "x test:  (1044, 3072)\n",
            "y train:  (4172, 1)\n",
            "y test:  (1044, 1)\n"
          ]
        }
      ],
      "source": [
        "# Refill the train and test variables with the flattened version and display the results\n",
        "x_train = X_train_flatten\n",
        "x_test = X_test_flatten\n",
        "y_train = Y_train\n",
        "y_test = Y_test\n",
        "print(\"x train: \",x_train.shape)\n",
        "print(\"x test: \",x_test.shape)\n",
        "print(\"y train: \",y_train.shape)\n",
        "print(\"y test: \",y_test.shape)"
      ]
    },
    {
      "cell_type": "code",
      "execution_count": null,
      "metadata": {
        "colab": {
          "base_uri": "https://localhost:8080/"
        },
        "id": "nXmyCt452VhB",
        "outputId": "1f4d5333-cbaf-46ff-9de4-25e8319145ac"
      },
      "outputs": [
        {
          "output_type": "stream",
          "name": "stderr",
          "text": [
            "<ipython-input-29-b72cfb235276>:9: DeprecationWarning: KerasClassifier is deprecated, use Sci-Keras (https://github.com/adriangb/scikeras) instead. See https://www.adriangb.com/scikeras/stable/migration.html for help migrating.\n",
            "  classifier = KerasClassifier(build_fn = build_classifier, epochs = 100)\n"
          ]
        },
        {
          "output_type": "stream",
          "name": "stdout",
          "text": [
            "Epoch 1/100\n",
            "87/87 [==============================] - 1s 3ms/step - loss: 0.4526 - accuracy: 0.7925\n",
            "Epoch 2/100\n",
            "87/87 [==============================] - 0s 3ms/step - loss: 0.3018 - accuracy: 0.8946\n",
            "Epoch 3/100\n",
            "87/87 [==============================] - 0s 3ms/step - loss: 0.2639 - accuracy: 0.9223\n",
            "Epoch 4/100\n",
            "87/87 [==============================] - 0s 3ms/step - loss: 0.2816 - accuracy: 0.9072\n",
            "Epoch 5/100\n",
            "87/87 [==============================] - 0s 3ms/step - loss: 0.2536 - accuracy: 0.9213\n",
            "Epoch 6/100\n",
            "87/87 [==============================] - 0s 3ms/step - loss: 0.2218 - accuracy: 0.9421\n",
            "Epoch 7/100\n",
            "87/87 [==============================] - 0s 3ms/step - loss: 0.2164 - accuracy: 0.9486\n",
            "Epoch 8/100\n",
            "87/87 [==============================] - 0s 3ms/step - loss: 0.2027 - accuracy: 0.9507\n",
            "Epoch 9/100\n",
            "87/87 [==============================] - 0s 2ms/step - loss: 0.2054 - accuracy: 0.9374\n",
            "Epoch 10/100\n",
            "87/87 [==============================] - 0s 3ms/step - loss: 0.2206 - accuracy: 0.9317\n",
            "Epoch 11/100\n",
            "87/87 [==============================] - 0s 3ms/step - loss: 0.1980 - accuracy: 0.9425\n",
            "Epoch 12/100\n",
            "87/87 [==============================] - 0s 3ms/step - loss: 0.1762 - accuracy: 0.9540\n",
            "Epoch 13/100\n",
            "87/87 [==============================] - 0s 3ms/step - loss: 0.1777 - accuracy: 0.9464\n",
            "Epoch 14/100\n",
            "87/87 [==============================] - 0s 3ms/step - loss: 0.1758 - accuracy: 0.9482\n",
            "Epoch 15/100\n",
            "87/87 [==============================] - 0s 3ms/step - loss: 0.1614 - accuracy: 0.9569\n",
            "Epoch 16/100\n",
            "87/87 [==============================] - 0s 3ms/step - loss: 0.1533 - accuracy: 0.9583\n",
            "Epoch 17/100\n",
            "87/87 [==============================] - 0s 3ms/step - loss: 0.1614 - accuracy: 0.9515\n",
            "Epoch 18/100\n",
            "87/87 [==============================] - 0s 3ms/step - loss: 0.1494 - accuracy: 0.9554\n",
            "Epoch 19/100\n",
            "87/87 [==============================] - 0s 3ms/step - loss: 0.1824 - accuracy: 0.9378\n",
            "Epoch 20/100\n",
            "87/87 [==============================] - 0s 3ms/step - loss: 0.1395 - accuracy: 0.9583\n",
            "Epoch 21/100\n",
            "87/87 [==============================] - 0s 2ms/step - loss: 0.1461 - accuracy: 0.9533\n",
            "Epoch 22/100\n",
            "87/87 [==============================] - 0s 3ms/step - loss: 0.1579 - accuracy: 0.9446\n",
            "Epoch 23/100\n",
            "87/87 [==============================] - 0s 3ms/step - loss: 0.1318 - accuracy: 0.9594\n",
            "Epoch 24/100\n",
            "87/87 [==============================] - 0s 3ms/step - loss: 0.1281 - accuracy: 0.9601\n",
            "Epoch 25/100\n",
            "87/87 [==============================] - 0s 3ms/step - loss: 0.1571 - accuracy: 0.9410\n",
            "Epoch 26/100\n",
            "87/87 [==============================] - 0s 3ms/step - loss: 0.1190 - accuracy: 0.9640\n",
            "Epoch 27/100\n",
            "87/87 [==============================] - 0s 3ms/step - loss: 0.1289 - accuracy: 0.9572\n",
            "Epoch 28/100\n",
            "87/87 [==============================] - 0s 2ms/step - loss: 0.1296 - accuracy: 0.9540\n",
            "Epoch 29/100\n",
            "87/87 [==============================] - 0s 3ms/step - loss: 0.1235 - accuracy: 0.9597\n",
            "Epoch 30/100\n",
            "87/87 [==============================] - 0s 3ms/step - loss: 0.1215 - accuracy: 0.9569\n",
            "Epoch 31/100\n",
            "87/87 [==============================] - 0s 3ms/step - loss: 0.1067 - accuracy: 0.9630\n",
            "Epoch 32/100\n",
            "87/87 [==============================] - 0s 2ms/step - loss: 0.1548 - accuracy: 0.9356\n",
            "Epoch 33/100\n",
            "87/87 [==============================] - 0s 3ms/step - loss: 0.1462 - accuracy: 0.9407\n",
            "Epoch 34/100\n",
            "87/87 [==============================] - 0s 2ms/step - loss: 0.1185 - accuracy: 0.9586\n",
            "Epoch 35/100\n",
            "87/87 [==============================] - 0s 3ms/step - loss: 0.1145 - accuracy: 0.9604\n",
            "Epoch 36/100\n",
            "87/87 [==============================] - 0s 3ms/step - loss: 0.1413 - accuracy: 0.9515\n",
            "Epoch 37/100\n",
            "87/87 [==============================] - 0s 2ms/step - loss: 0.1284 - accuracy: 0.9543\n",
            "Epoch 38/100\n",
            "87/87 [==============================] - 0s 2ms/step - loss: 0.1050 - accuracy: 0.9637\n",
            "Epoch 39/100\n",
            "87/87 [==============================] - 0s 2ms/step - loss: 0.1093 - accuracy: 0.9626\n",
            "Epoch 40/100\n",
            "87/87 [==============================] - 0s 2ms/step - loss: 0.1140 - accuracy: 0.9554\n",
            "Epoch 41/100\n",
            "87/87 [==============================] - 0s 2ms/step - loss: 0.1409 - accuracy: 0.9428\n",
            "Epoch 42/100\n",
            "87/87 [==============================] - 0s 3ms/step - loss: 0.1164 - accuracy: 0.9558\n",
            "Epoch 43/100\n",
            "87/87 [==============================] - 0s 3ms/step - loss: 0.1144 - accuracy: 0.9576\n",
            "Epoch 44/100\n",
            "87/87 [==============================] - 0s 3ms/step - loss: 0.1116 - accuracy: 0.9594\n",
            "Epoch 45/100\n",
            "87/87 [==============================] - 0s 3ms/step - loss: 0.1386 - accuracy: 0.9468\n",
            "Epoch 46/100\n",
            "87/87 [==============================] - 0s 3ms/step - loss: 0.1026 - accuracy: 0.9604\n",
            "Epoch 47/100\n",
            "87/87 [==============================] - 0s 3ms/step - loss: 0.0982 - accuracy: 0.9673\n",
            "Epoch 48/100\n",
            "87/87 [==============================] - 0s 3ms/step - loss: 0.1049 - accuracy: 0.9626\n",
            "Epoch 49/100\n",
            "87/87 [==============================] - 0s 3ms/step - loss: 0.1490 - accuracy: 0.9486\n",
            "Epoch 50/100\n",
            "87/87 [==============================] - 0s 3ms/step - loss: 0.0962 - accuracy: 0.9687\n",
            "Epoch 51/100\n",
            "87/87 [==============================] - 0s 3ms/step - loss: 0.1169 - accuracy: 0.9554\n",
            "Epoch 52/100\n",
            "87/87 [==============================] - 0s 3ms/step - loss: 0.1017 - accuracy: 0.9615\n",
            "Epoch 53/100\n",
            "87/87 [==============================] - 0s 3ms/step - loss: 0.0951 - accuracy: 0.9684\n",
            "Epoch 54/100\n",
            "87/87 [==============================] - 0s 4ms/step - loss: 0.1568 - accuracy: 0.9417\n",
            "Epoch 55/100\n",
            "87/87 [==============================] - 0s 4ms/step - loss: 0.1336 - accuracy: 0.9525\n",
            "Epoch 56/100\n",
            "87/87 [==============================] - 0s 4ms/step - loss: 0.1165 - accuracy: 0.9586\n",
            "Epoch 57/100\n",
            "87/87 [==============================] - 0s 4ms/step - loss: 0.1131 - accuracy: 0.9565\n",
            "Epoch 58/100\n",
            "87/87 [==============================] - 0s 4ms/step - loss: 0.1507 - accuracy: 0.9446\n",
            "Epoch 59/100\n",
            "87/87 [==============================] - 0s 4ms/step - loss: 0.0984 - accuracy: 0.9662\n",
            "Epoch 60/100\n",
            "87/87 [==============================] - 0s 4ms/step - loss: 0.1243 - accuracy: 0.9551\n",
            "Epoch 61/100\n",
            "87/87 [==============================] - 0s 4ms/step - loss: 0.1446 - accuracy: 0.9439\n",
            "Epoch 62/100\n",
            "87/87 [==============================] - 0s 4ms/step - loss: 0.1231 - accuracy: 0.9536\n",
            "Epoch 63/100\n",
            "87/87 [==============================] - 0s 4ms/step - loss: 0.0948 - accuracy: 0.9662\n",
            "Epoch 64/100\n",
            "87/87 [==============================] - 0s 3ms/step - loss: 0.1017 - accuracy: 0.9651\n",
            "Epoch 65/100\n",
            "87/87 [==============================] - 0s 4ms/step - loss: 0.1080 - accuracy: 0.9608\n",
            "Epoch 66/100\n",
            "87/87 [==============================] - 0s 3ms/step - loss: 0.1112 - accuracy: 0.9630\n",
            "Epoch 67/100\n",
            "87/87 [==============================] - 0s 3ms/step - loss: 0.0901 - accuracy: 0.9698\n",
            "Epoch 68/100\n",
            "87/87 [==============================] - 0s 4ms/step - loss: 0.1244 - accuracy: 0.9529\n",
            "Epoch 69/100\n",
            "87/87 [==============================] - 0s 4ms/step - loss: 0.1376 - accuracy: 0.9507\n",
            "Epoch 70/100\n",
            "87/87 [==============================] - 0s 3ms/step - loss: 0.1156 - accuracy: 0.9612\n",
            "Epoch 71/100\n",
            "87/87 [==============================] - 0s 4ms/step - loss: 0.1093 - accuracy: 0.9626\n",
            "Epoch 72/100\n",
            "87/87 [==============================] - 0s 4ms/step - loss: 0.0928 - accuracy: 0.9676\n",
            "Epoch 73/100\n",
            "87/87 [==============================] - 0s 4ms/step - loss: 0.1086 - accuracy: 0.9626\n",
            "Epoch 74/100\n",
            "87/87 [==============================] - 0s 3ms/step - loss: 0.1415 - accuracy: 0.9511\n",
            "Epoch 75/100\n",
            "87/87 [==============================] - 0s 4ms/step - loss: 0.0909 - accuracy: 0.9680\n",
            "Epoch 76/100\n",
            "87/87 [==============================] - 0s 4ms/step - loss: 0.0863 - accuracy: 0.9702\n",
            "Epoch 77/100\n",
            "87/87 [==============================] - 0s 4ms/step - loss: 0.0879 - accuracy: 0.9723\n",
            "Epoch 78/100\n",
            "87/87 [==============================] - 0s 4ms/step - loss: 0.1024 - accuracy: 0.9655\n",
            "Epoch 79/100\n",
            "87/87 [==============================] - 0s 3ms/step - loss: 0.0888 - accuracy: 0.9712\n",
            "Epoch 80/100\n",
            "87/87 [==============================] - 0s 4ms/step - loss: 0.1005 - accuracy: 0.9648\n",
            "Epoch 81/100\n",
            "87/87 [==============================] - 0s 4ms/step - loss: 0.1347 - accuracy: 0.9540\n",
            "Epoch 82/100\n",
            "87/87 [==============================] - 0s 3ms/step - loss: 0.0849 - accuracy: 0.9702\n",
            "Epoch 83/100\n",
            "87/87 [==============================] - 0s 4ms/step - loss: 0.1164 - accuracy: 0.9572\n",
            "Epoch 84/100\n",
            "87/87 [==============================] - 0s 4ms/step - loss: 0.1392 - accuracy: 0.9504\n",
            "Epoch 85/100\n",
            "87/87 [==============================] - 0s 5ms/step - loss: 0.0871 - accuracy: 0.9676\n",
            "Epoch 86/100\n",
            "87/87 [==============================] - 0s 4ms/step - loss: 0.0837 - accuracy: 0.9705\n",
            "Epoch 87/100\n",
            "87/87 [==============================] - 0s 4ms/step - loss: 0.1188 - accuracy: 0.9597\n",
            "Epoch 88/100\n",
            "87/87 [==============================] - 0s 4ms/step - loss: 0.0883 - accuracy: 0.9734\n",
            "Epoch 89/100\n",
            "87/87 [==============================] - 0s 3ms/step - loss: 0.0970 - accuracy: 0.9666\n",
            "Epoch 90/100\n",
            "87/87 [==============================] - 0s 4ms/step - loss: 0.0829 - accuracy: 0.9720\n",
            "Epoch 91/100\n",
            "87/87 [==============================] - 0s 4ms/step - loss: 0.0988 - accuracy: 0.9644\n",
            "Epoch 92/100\n",
            "87/87 [==============================] - 0s 4ms/step - loss: 0.0880 - accuracy: 0.9669\n",
            "Epoch 93/100\n",
            "87/87 [==============================] - 0s 3ms/step - loss: 0.0906 - accuracy: 0.9676\n",
            "Epoch 94/100\n",
            "87/87 [==============================] - 0s 4ms/step - loss: 0.0846 - accuracy: 0.9691\n",
            "Epoch 95/100\n",
            "87/87 [==============================] - 0s 4ms/step - loss: 0.1320 - accuracy: 0.9500\n",
            "Epoch 96/100\n",
            "87/87 [==============================] - 0s 4ms/step - loss: 0.1805 - accuracy: 0.9302\n",
            "Epoch 97/100\n",
            "87/87 [==============================] - 0s 4ms/step - loss: 0.2137 - accuracy: 0.9367\n",
            "Epoch 98/100\n",
            "87/87 [==============================] - 0s 4ms/step - loss: 0.1376 - accuracy: 0.9497\n",
            "Epoch 99/100\n",
            "87/87 [==============================] - 0s 3ms/step - loss: 0.1044 - accuracy: 0.9604\n",
            "Epoch 100/100\n",
            "87/87 [==============================] - 0s 4ms/step - loss: 0.0889 - accuracy: 0.9673\n",
            "44/44 [==============================] - 0s 3ms/step - loss: 0.1275 - accuracy: 0.9540\n",
            "Epoch 1/100\n",
            "87/87 [==============================] - 1s 4ms/step - loss: 0.4644 - accuracy: 0.7731\n",
            "Epoch 2/100\n",
            "87/87 [==============================] - 0s 4ms/step - loss: 0.2998 - accuracy: 0.9058\n",
            "Epoch 3/100\n",
            "87/87 [==============================] - 0s 4ms/step - loss: 0.2705 - accuracy: 0.9198\n",
            "Epoch 4/100\n",
            "87/87 [==============================] - 0s 4ms/step - loss: 0.2608 - accuracy: 0.9256\n",
            "Epoch 5/100\n",
            "87/87 [==============================] - 0s 4ms/step - loss: 0.2366 - accuracy: 0.9335\n",
            "Epoch 6/100\n",
            "87/87 [==============================] - 0s 4ms/step - loss: 0.2312 - accuracy: 0.9410\n",
            "Epoch 7/100\n",
            "87/87 [==============================] - 0s 5ms/step - loss: 0.2270 - accuracy: 0.9353\n",
            "Epoch 8/100\n",
            "87/87 [==============================] - 0s 5ms/step - loss: 0.2070 - accuracy: 0.9410\n",
            "Epoch 9/100\n",
            "87/87 [==============================] - 0s 5ms/step - loss: 0.2139 - accuracy: 0.9389\n",
            "Epoch 10/100\n",
            "87/87 [==============================] - 0s 5ms/step - loss: 0.2112 - accuracy: 0.9382\n",
            "Epoch 11/100\n",
            "87/87 [==============================] - 0s 6ms/step - loss: 0.2008 - accuracy: 0.9425\n",
            "Epoch 12/100\n",
            "87/87 [==============================] - 0s 5ms/step - loss: 0.1873 - accuracy: 0.9497\n",
            "Epoch 13/100\n",
            "87/87 [==============================] - 0s 5ms/step - loss: 0.1732 - accuracy: 0.9558\n",
            "Epoch 14/100\n",
            "87/87 [==============================] - 0s 3ms/step - loss: 0.1701 - accuracy: 0.9500\n",
            "Epoch 15/100\n",
            "87/87 [==============================] - 0s 4ms/step - loss: 0.1810 - accuracy: 0.9479\n",
            "Epoch 16/100\n",
            "87/87 [==============================] - 0s 4ms/step - loss: 0.1723 - accuracy: 0.9471\n",
            "Epoch 17/100\n",
            "87/87 [==============================] - 0s 4ms/step - loss: 0.1592 - accuracy: 0.9558\n",
            "Epoch 18/100\n",
            "87/87 [==============================] - 0s 4ms/step - loss: 0.1641 - accuracy: 0.9518\n",
            "Epoch 19/100\n",
            "87/87 [==============================] - 0s 4ms/step - loss: 0.1636 - accuracy: 0.9522\n",
            "Epoch 20/100\n",
            "87/87 [==============================] - 0s 4ms/step - loss: 0.1462 - accuracy: 0.9569\n",
            "Epoch 21/100\n",
            "87/87 [==============================] - 0s 4ms/step - loss: 0.1518 - accuracy: 0.9515\n",
            "Epoch 22/100\n",
            "87/87 [==============================] - 0s 3ms/step - loss: 0.1587 - accuracy: 0.9536\n",
            "Epoch 23/100\n",
            "87/87 [==============================] - 0s 4ms/step - loss: 0.1414 - accuracy: 0.9594\n",
            "Epoch 24/100\n",
            "87/87 [==============================] - 0s 4ms/step - loss: 0.1619 - accuracy: 0.9500\n",
            "Epoch 25/100\n",
            "87/87 [==============================] - 0s 4ms/step - loss: 0.1424 - accuracy: 0.9576\n",
            "Epoch 26/100\n",
            "87/87 [==============================] - 0s 4ms/step - loss: 0.1419 - accuracy: 0.9569\n",
            "Epoch 27/100\n",
            "87/87 [==============================] - 0s 4ms/step - loss: 0.1439 - accuracy: 0.9511\n",
            "Epoch 28/100\n",
            "87/87 [==============================] - 0s 4ms/step - loss: 0.1296 - accuracy: 0.9615\n",
            "Epoch 29/100\n",
            "87/87 [==============================] - 0s 4ms/step - loss: 0.1435 - accuracy: 0.9515\n",
            "Epoch 30/100\n",
            "87/87 [==============================] - 0s 4ms/step - loss: 0.1246 - accuracy: 0.9630\n",
            "Epoch 31/100\n",
            "87/87 [==============================] - 0s 4ms/step - loss: 0.1344 - accuracy: 0.9540\n",
            "Epoch 32/100\n",
            "87/87 [==============================] - 0s 4ms/step - loss: 0.1201 - accuracy: 0.9608\n",
            "Epoch 33/100\n",
            "87/87 [==============================] - 0s 4ms/step - loss: 0.1227 - accuracy: 0.9601\n",
            "Epoch 34/100\n",
            "87/87 [==============================] - 0s 4ms/step - loss: 0.1372 - accuracy: 0.9543\n",
            "Epoch 35/100\n",
            "87/87 [==============================] - 0s 4ms/step - loss: 0.1218 - accuracy: 0.9630\n",
            "Epoch 36/100\n",
            "87/87 [==============================] - 0s 4ms/step - loss: 0.1185 - accuracy: 0.9586\n",
            "Epoch 37/100\n",
            "87/87 [==============================] - 0s 3ms/step - loss: 0.1377 - accuracy: 0.9543\n",
            "Epoch 38/100\n",
            "87/87 [==============================] - 0s 4ms/step - loss: 0.1135 - accuracy: 0.9640\n",
            "Epoch 39/100\n",
            "87/87 [==============================] - 0s 4ms/step - loss: 0.1193 - accuracy: 0.9612\n",
            "Epoch 40/100\n",
            "87/87 [==============================] - 0s 4ms/step - loss: 0.1071 - accuracy: 0.9662\n",
            "Epoch 41/100\n",
            "87/87 [==============================] - 0s 3ms/step - loss: 0.1325 - accuracy: 0.9525\n",
            "Epoch 42/100\n",
            "87/87 [==============================] - 0s 3ms/step - loss: 0.1065 - accuracy: 0.9658\n",
            "Epoch 43/100\n",
            "87/87 [==============================] - 0s 4ms/step - loss: 0.1055 - accuracy: 0.9637\n",
            "Epoch 44/100\n",
            "87/87 [==============================] - 0s 4ms/step - loss: 0.1242 - accuracy: 0.9576\n",
            "Epoch 45/100\n",
            "87/87 [==============================] - 0s 4ms/step - loss: 0.1113 - accuracy: 0.9648\n",
            "Epoch 46/100\n",
            "87/87 [==============================] - 0s 4ms/step - loss: 0.1050 - accuracy: 0.9651\n",
            "Epoch 47/100\n",
            "87/87 [==============================] - 0s 4ms/step - loss: 0.1038 - accuracy: 0.9626\n",
            "Epoch 48/100\n",
            "87/87 [==============================] - 0s 4ms/step - loss: 0.1077 - accuracy: 0.9633\n",
            "Epoch 49/100\n",
            "87/87 [==============================] - 0s 3ms/step - loss: 0.1079 - accuracy: 0.9626\n",
            "Epoch 50/100\n",
            "87/87 [==============================] - 0s 4ms/step - loss: 0.1095 - accuracy: 0.9612\n",
            "Epoch 51/100\n",
            "87/87 [==============================] - 0s 4ms/step - loss: 0.1113 - accuracy: 0.9630\n",
            "Epoch 52/100\n",
            "87/87 [==============================] - 0s 4ms/step - loss: 0.1275 - accuracy: 0.9515\n",
            "Epoch 53/100\n",
            "87/87 [==============================] - 0s 4ms/step - loss: 0.0993 - accuracy: 0.9676\n",
            "Epoch 54/100\n",
            "87/87 [==============================] - 0s 4ms/step - loss: 0.1003 - accuracy: 0.9637\n",
            "Epoch 55/100\n",
            "87/87 [==============================] - 0s 4ms/step - loss: 0.0976 - accuracy: 0.9694\n",
            "Epoch 56/100\n",
            "87/87 [==============================] - 0s 4ms/step - loss: 0.0948 - accuracy: 0.9684\n",
            "Epoch 57/100\n",
            "87/87 [==============================] - 0s 4ms/step - loss: 0.0927 - accuracy: 0.9673\n",
            "Epoch 58/100\n",
            "87/87 [==============================] - 0s 4ms/step - loss: 0.0929 - accuracy: 0.9712\n",
            "Epoch 59/100\n",
            "87/87 [==============================] - 0s 4ms/step - loss: 0.1119 - accuracy: 0.9612\n",
            "Epoch 60/100\n",
            "87/87 [==============================] - 0s 3ms/step - loss: 0.0959 - accuracy: 0.9684\n",
            "Epoch 61/100\n",
            "87/87 [==============================] - 0s 4ms/step - loss: 0.0915 - accuracy: 0.9694\n",
            "Epoch 62/100\n",
            "87/87 [==============================] - 0s 4ms/step - loss: 0.1012 - accuracy: 0.9651\n",
            "Epoch 63/100\n",
            "87/87 [==============================] - 0s 4ms/step - loss: 0.1066 - accuracy: 0.9622\n",
            "Epoch 64/100\n",
            "87/87 [==============================] - 0s 4ms/step - loss: 0.1019 - accuracy: 0.9655\n",
            "Epoch 65/100\n",
            "87/87 [==============================] - 0s 4ms/step - loss: 0.1018 - accuracy: 0.9608\n",
            "Epoch 66/100\n",
            "87/87 [==============================] - 0s 4ms/step - loss: 0.0873 - accuracy: 0.9687\n",
            "Epoch 67/100\n",
            "87/87 [==============================] - 0s 4ms/step - loss: 0.1173 - accuracy: 0.9551\n",
            "Epoch 68/100\n",
            "87/87 [==============================] - 0s 4ms/step - loss: 0.0875 - accuracy: 0.9698\n",
            "Epoch 69/100\n",
            "87/87 [==============================] - 0s 4ms/step - loss: 0.0957 - accuracy: 0.9651\n",
            "Epoch 70/100\n",
            "87/87 [==============================] - 0s 4ms/step - loss: 0.0933 - accuracy: 0.9687\n",
            "Epoch 71/100\n",
            "87/87 [==============================] - 0s 3ms/step - loss: 0.0958 - accuracy: 0.9655\n",
            "Epoch 72/100\n",
            "87/87 [==============================] - 0s 3ms/step - loss: 0.0905 - accuracy: 0.9691\n",
            "Epoch 73/100\n",
            "87/87 [==============================] - 0s 4ms/step - loss: 0.1192 - accuracy: 0.9543\n",
            "Epoch 74/100\n",
            "87/87 [==============================] - 0s 3ms/step - loss: 0.0933 - accuracy: 0.9673\n",
            "Epoch 75/100\n",
            "87/87 [==============================] - 0s 3ms/step - loss: 0.0961 - accuracy: 0.9648\n",
            "Epoch 76/100\n",
            "87/87 [==============================] - 0s 4ms/step - loss: 0.0913 - accuracy: 0.9705\n",
            "Epoch 77/100\n",
            "87/87 [==============================] - 0s 4ms/step - loss: 0.0850 - accuracy: 0.9716\n",
            "Epoch 78/100\n",
            "87/87 [==============================] - 0s 4ms/step - loss: 0.0753 - accuracy: 0.9784\n",
            "Epoch 79/100\n",
            "87/87 [==============================] - 0s 4ms/step - loss: 0.0831 - accuracy: 0.9730\n",
            "Epoch 80/100\n",
            "87/87 [==============================] - 0s 4ms/step - loss: 0.0969 - accuracy: 0.9637\n",
            "Epoch 81/100\n",
            "87/87 [==============================] - 0s 4ms/step - loss: 0.0924 - accuracy: 0.9669\n",
            "Epoch 82/100\n",
            "87/87 [==============================] - 0s 4ms/step - loss: 0.0908 - accuracy: 0.9687\n",
            "Epoch 83/100\n",
            "87/87 [==============================] - 0s 4ms/step - loss: 0.0821 - accuracy: 0.9730\n",
            "Epoch 84/100\n",
            "87/87 [==============================] - 0s 4ms/step - loss: 0.0784 - accuracy: 0.9748\n",
            "Epoch 85/100\n",
            "87/87 [==============================] - 0s 3ms/step - loss: 0.0934 - accuracy: 0.9669\n",
            "Epoch 86/100\n",
            "87/87 [==============================] - 0s 4ms/step - loss: 0.0883 - accuracy: 0.9709\n",
            "Epoch 87/100\n",
            "87/87 [==============================] - 0s 4ms/step - loss: 0.0989 - accuracy: 0.9626\n",
            "Epoch 88/100\n",
            "87/87 [==============================] - 0s 5ms/step - loss: 0.0755 - accuracy: 0.9755\n",
            "Epoch 89/100\n",
            "87/87 [==============================] - 0s 5ms/step - loss: 0.0821 - accuracy: 0.9723\n",
            "Epoch 90/100\n",
            "87/87 [==============================] - 0s 5ms/step - loss: 0.0806 - accuracy: 0.9709\n",
            "Epoch 91/100\n",
            "87/87 [==============================] - 0s 5ms/step - loss: 0.0885 - accuracy: 0.9698\n",
            "Epoch 92/100\n",
            "87/87 [==============================] - 0s 5ms/step - loss: 0.1081 - accuracy: 0.9579\n",
            "Epoch 93/100\n",
            "87/87 [==============================] - 0s 5ms/step - loss: 0.0980 - accuracy: 0.9669\n",
            "Epoch 94/100\n",
            "87/87 [==============================] - 0s 5ms/step - loss: 0.0743 - accuracy: 0.9763\n",
            "Epoch 95/100\n",
            "87/87 [==============================] - 0s 4ms/step - loss: 0.0749 - accuracy: 0.9741\n",
            "Epoch 96/100\n",
            "87/87 [==============================] - 0s 4ms/step - loss: 0.0904 - accuracy: 0.9666\n",
            "Epoch 97/100\n",
            "87/87 [==============================] - 0s 4ms/step - loss: 0.1011 - accuracy: 0.9644\n",
            "Epoch 98/100\n",
            "87/87 [==============================] - 0s 4ms/step - loss: 0.0715 - accuracy: 0.9763\n",
            "Epoch 99/100\n",
            "87/87 [==============================] - 0s 4ms/step - loss: 0.0756 - accuracy: 0.9727\n",
            "Epoch 100/100\n",
            "87/87 [==============================] - 0s 4ms/step - loss: 0.0833 - accuracy: 0.9712\n",
            "44/44 [==============================] - 0s 3ms/step - loss: 0.3397 - accuracy: 0.9094\n",
            "Epoch 1/100\n",
            "87/87 [==============================] - 1s 4ms/step - loss: 0.4885 - accuracy: 0.7390\n",
            "Epoch 2/100\n",
            "87/87 [==============================] - 0s 3ms/step - loss: 0.3294 - accuracy: 0.8882\n",
            "Epoch 3/100\n",
            "87/87 [==============================] - 0s 4ms/step - loss: 0.2788 - accuracy: 0.9224\n",
            "Epoch 4/100\n",
            "87/87 [==============================] - 0s 4ms/step - loss: 0.2756 - accuracy: 0.9242\n",
            "Epoch 5/100\n",
            "87/87 [==============================] - 0s 4ms/step - loss: 0.2821 - accuracy: 0.9112\n",
            "Epoch 6/100\n",
            "87/87 [==============================] - 0s 4ms/step - loss: 0.2286 - accuracy: 0.9414\n",
            "Epoch 7/100\n",
            "87/87 [==============================] - 0s 4ms/step - loss: 0.2315 - accuracy: 0.9349\n",
            "Epoch 8/100\n",
            "87/87 [==============================] - 0s 4ms/step - loss: 0.2039 - accuracy: 0.9493\n",
            "Epoch 9/100\n",
            "87/87 [==============================] - 0s 3ms/step - loss: 0.2162 - accuracy: 0.9439\n",
            "Epoch 10/100\n",
            "87/87 [==============================] - 0s 3ms/step - loss: 0.1868 - accuracy: 0.9565\n",
            "Epoch 11/100\n",
            "87/87 [==============================] - 0s 3ms/step - loss: 0.2017 - accuracy: 0.9436\n",
            "Epoch 12/100\n",
            "87/87 [==============================] - 0s 3ms/step - loss: 0.2010 - accuracy: 0.9418\n",
            "Epoch 13/100\n",
            "87/87 [==============================] - 0s 3ms/step - loss: 0.1740 - accuracy: 0.9551\n",
            "Epoch 14/100\n",
            "87/87 [==============================] - 0s 3ms/step - loss: 0.1751 - accuracy: 0.9547\n",
            "Epoch 15/100\n",
            "87/87 [==============================] - 0s 3ms/step - loss: 0.1685 - accuracy: 0.9526\n",
            "Epoch 16/100\n",
            "87/87 [==============================] - 0s 3ms/step - loss: 0.1680 - accuracy: 0.9533\n",
            "Epoch 17/100\n",
            "87/87 [==============================] - 0s 4ms/step - loss: 0.1734 - accuracy: 0.9468\n",
            "Epoch 18/100\n",
            "87/87 [==============================] - 0s 4ms/step - loss: 0.1570 - accuracy: 0.9533\n",
            "Epoch 19/100\n",
            "87/87 [==============================] - 0s 3ms/step - loss: 0.1536 - accuracy: 0.9569\n",
            "Epoch 20/100\n",
            "87/87 [==============================] - 0s 3ms/step - loss: 0.1578 - accuracy: 0.9540\n",
            "Epoch 21/100\n",
            "87/87 [==============================] - 0s 3ms/step - loss: 0.1424 - accuracy: 0.9623\n",
            "Epoch 22/100\n",
            "87/87 [==============================] - 0s 3ms/step - loss: 0.1704 - accuracy: 0.9443\n",
            "Epoch 23/100\n",
            "87/87 [==============================] - 0s 4ms/step - loss: 0.1418 - accuracy: 0.9587\n",
            "Epoch 24/100\n",
            "87/87 [==============================] - 0s 3ms/step - loss: 0.1501 - accuracy: 0.9547\n",
            "Epoch 25/100\n",
            "87/87 [==============================] - 0s 4ms/step - loss: 0.1357 - accuracy: 0.9601\n",
            "Epoch 26/100\n",
            "87/87 [==============================] - 0s 3ms/step - loss: 0.1419 - accuracy: 0.9558\n",
            "Epoch 27/100\n",
            "87/87 [==============================] - 0s 3ms/step - loss: 0.1617 - accuracy: 0.9461\n",
            "Epoch 28/100\n",
            "87/87 [==============================] - 0s 3ms/step - loss: 0.1259 - accuracy: 0.9626\n",
            "Epoch 29/100\n",
            "87/87 [==============================] - 0s 4ms/step - loss: 0.1276 - accuracy: 0.9594\n",
            "Epoch 30/100\n",
            "87/87 [==============================] - 0s 3ms/step - loss: 0.1265 - accuracy: 0.9594\n",
            "Epoch 31/100\n",
            "87/87 [==============================] - 0s 3ms/step - loss: 0.1254 - accuracy: 0.9626\n",
            "Epoch 32/100\n",
            "87/87 [==============================] - 0s 3ms/step - loss: 0.1215 - accuracy: 0.9615\n",
            "Epoch 33/100\n",
            "87/87 [==============================] - 0s 4ms/step - loss: 0.1217 - accuracy: 0.9615\n",
            "Epoch 34/100\n",
            "87/87 [==============================] - 0s 4ms/step - loss: 0.1178 - accuracy: 0.9623\n",
            "Epoch 35/100\n",
            "87/87 [==============================] - 0s 4ms/step - loss: 0.1264 - accuracy: 0.9612\n",
            "Epoch 36/100\n",
            "87/87 [==============================] - 0s 4ms/step - loss: 0.1124 - accuracy: 0.9619\n",
            "Epoch 37/100\n",
            "87/87 [==============================] - 0s 4ms/step - loss: 0.1240 - accuracy: 0.9576\n",
            "Epoch 38/100\n",
            "87/87 [==============================] - 0s 3ms/step - loss: 0.1097 - accuracy: 0.9659\n",
            "Epoch 39/100\n",
            "87/87 [==============================] - 0s 4ms/step - loss: 0.1090 - accuracy: 0.9655\n",
            "Epoch 40/100\n",
            "87/87 [==============================] - 0s 4ms/step - loss: 0.1142 - accuracy: 0.9619\n",
            "Epoch 41/100\n",
            "87/87 [==============================] - 1s 6ms/step - loss: 0.1179 - accuracy: 0.9597\n",
            "Epoch 42/100\n",
            "87/87 [==============================] - 0s 5ms/step - loss: 0.1094 - accuracy: 0.9659\n",
            "Epoch 43/100\n",
            "87/87 [==============================] - 0s 3ms/step - loss: 0.0969 - accuracy: 0.9709\n",
            "Epoch 44/100\n",
            "87/87 [==============================] - 1s 6ms/step - loss: 0.1129 - accuracy: 0.9626\n",
            "Epoch 45/100\n",
            "87/87 [==============================] - 0s 5ms/step - loss: 0.1037 - accuracy: 0.9669\n",
            "Epoch 46/100\n",
            "87/87 [==============================] - 0s 3ms/step - loss: 0.1016 - accuracy: 0.9680\n",
            "Epoch 47/100\n",
            "87/87 [==============================] - 0s 5ms/step - loss: 0.1107 - accuracy: 0.9583\n",
            "Epoch 48/100\n",
            "87/87 [==============================] - 1s 7ms/step - loss: 0.0974 - accuracy: 0.9680\n",
            "Epoch 49/100\n",
            "87/87 [==============================] - 0s 4ms/step - loss: 0.1024 - accuracy: 0.9655\n",
            "Epoch 50/100\n",
            "87/87 [==============================] - 0s 3ms/step - loss: 0.1074 - accuracy: 0.9633\n",
            "Epoch 51/100\n",
            "87/87 [==============================] - 0s 4ms/step - loss: 0.0994 - accuracy: 0.9666\n",
            "Epoch 52/100\n",
            "87/87 [==============================] - 0s 3ms/step - loss: 0.0988 - accuracy: 0.9698\n",
            "Epoch 53/100\n",
            "87/87 [==============================] - 0s 4ms/step - loss: 0.1336 - accuracy: 0.9508\n",
            "Epoch 54/100\n",
            "87/87 [==============================] - 0s 4ms/step - loss: 0.1064 - accuracy: 0.9637\n",
            "Epoch 55/100\n",
            "87/87 [==============================] - 0s 3ms/step - loss: 0.0936 - accuracy: 0.9705\n",
            "Epoch 56/100\n",
            "87/87 [==============================] - 0s 3ms/step - loss: 0.1026 - accuracy: 0.9648\n",
            "Epoch 57/100\n",
            "87/87 [==============================] - 0s 3ms/step - loss: 0.1007 - accuracy: 0.9637\n",
            "Epoch 58/100\n",
            "87/87 [==============================] - 0s 4ms/step - loss: 0.0911 - accuracy: 0.9705\n",
            "Epoch 59/100\n",
            "87/87 [==============================] - 0s 3ms/step - loss: 0.1030 - accuracy: 0.9662\n",
            "Epoch 60/100\n",
            "87/87 [==============================] - 0s 3ms/step - loss: 0.0976 - accuracy: 0.9680\n",
            "Epoch 61/100\n",
            "87/87 [==============================] - 0s 3ms/step - loss: 0.1070 - accuracy: 0.9648\n",
            "Epoch 62/100\n",
            "87/87 [==============================] - 0s 4ms/step - loss: 0.0997 - accuracy: 0.9655\n",
            "Epoch 63/100\n",
            "87/87 [==============================] - 0s 3ms/step - loss: 0.0920 - accuracy: 0.9691\n",
            "Epoch 64/100\n",
            "87/87 [==============================] - 0s 3ms/step - loss: 0.0895 - accuracy: 0.9709\n",
            "Epoch 65/100\n",
            "87/87 [==============================] - 0s 4ms/step - loss: 0.0924 - accuracy: 0.9723\n",
            "Epoch 66/100\n",
            "87/87 [==============================] - 0s 3ms/step - loss: 0.0951 - accuracy: 0.9659\n",
            "Epoch 67/100\n",
            "87/87 [==============================] - 0s 3ms/step - loss: 0.0890 - accuracy: 0.9705\n",
            "Epoch 68/100\n",
            "87/87 [==============================] - 0s 3ms/step - loss: 0.0947 - accuracy: 0.9644\n",
            "Epoch 69/100\n",
            "87/87 [==============================] - 0s 3ms/step - loss: 0.0854 - accuracy: 0.9723\n",
            "Epoch 70/100\n",
            "87/87 [==============================] - 0s 3ms/step - loss: 0.0843 - accuracy: 0.9705\n",
            "Epoch 71/100\n",
            "87/87 [==============================] - 0s 3ms/step - loss: 0.0913 - accuracy: 0.9709\n",
            "Epoch 72/100\n",
            "87/87 [==============================] - 0s 3ms/step - loss: 0.0906 - accuracy: 0.9705\n",
            "Epoch 73/100\n",
            "87/87 [==============================] - 0s 3ms/step - loss: 0.0961 - accuracy: 0.9673\n",
            "Epoch 74/100\n",
            "87/87 [==============================] - 0s 3ms/step - loss: 0.0995 - accuracy: 0.9673\n",
            "Epoch 75/100\n",
            "87/87 [==============================] - 0s 3ms/step - loss: 0.1186 - accuracy: 0.9536\n",
            "Epoch 76/100\n",
            "87/87 [==============================] - 0s 4ms/step - loss: 0.0955 - accuracy: 0.9662\n",
            "Epoch 77/100\n",
            "87/87 [==============================] - 0s 3ms/step - loss: 0.0820 - accuracy: 0.9752\n",
            "Epoch 78/100\n",
            "87/87 [==============================] - 0s 3ms/step - loss: 0.0960 - accuracy: 0.9694\n",
            "Epoch 79/100\n",
            "87/87 [==============================] - 0s 4ms/step - loss: 0.0839 - accuracy: 0.9730\n",
            "Epoch 80/100\n",
            "87/87 [==============================] - 0s 3ms/step - loss: 0.0805 - accuracy: 0.9745\n",
            "Epoch 81/100\n",
            "87/87 [==============================] - 0s 3ms/step - loss: 0.0840 - accuracy: 0.9723\n",
            "Epoch 82/100\n",
            "87/87 [==============================] - 0s 4ms/step - loss: 0.1095 - accuracy: 0.9601\n",
            "Epoch 83/100\n",
            "87/87 [==============================] - 0s 3ms/step - loss: 0.0884 - accuracy: 0.9698\n",
            "Epoch 84/100\n",
            "87/87 [==============================] - 0s 3ms/step - loss: 0.1014 - accuracy: 0.9626\n",
            "Epoch 85/100\n",
            "87/87 [==============================] - 0s 4ms/step - loss: 0.0792 - accuracy: 0.9727\n",
            "Epoch 86/100\n",
            "87/87 [==============================] - 0s 4ms/step - loss: 0.0862 - accuracy: 0.9716\n",
            "Epoch 87/100\n",
            "87/87 [==============================] - 0s 4ms/step - loss: 0.1000 - accuracy: 0.9655\n",
            "Epoch 88/100\n",
            "87/87 [==============================] - 0s 3ms/step - loss: 0.1148 - accuracy: 0.9583\n",
            "Epoch 89/100\n",
            "87/87 [==============================] - 0s 3ms/step - loss: 0.0845 - accuracy: 0.9716\n",
            "Epoch 90/100\n",
            "87/87 [==============================] - 0s 4ms/step - loss: 0.0803 - accuracy: 0.9741\n",
            "Epoch 91/100\n",
            "87/87 [==============================] - 0s 4ms/step - loss: 0.1135 - accuracy: 0.9572\n",
            "Epoch 92/100\n",
            "87/87 [==============================] - 0s 3ms/step - loss: 0.0853 - accuracy: 0.9705\n",
            "Epoch 93/100\n",
            "87/87 [==============================] - 0s 3ms/step - loss: 0.0888 - accuracy: 0.9662\n",
            "Epoch 94/100\n",
            "87/87 [==============================] - 0s 4ms/step - loss: 0.0796 - accuracy: 0.9734\n",
            "Epoch 95/100\n",
            "87/87 [==============================] - 0s 4ms/step - loss: 0.0974 - accuracy: 0.9673\n",
            "Epoch 96/100\n",
            "87/87 [==============================] - 0s 4ms/step - loss: 0.0939 - accuracy: 0.9702\n",
            "Epoch 97/100\n",
            "87/87 [==============================] - 0s 3ms/step - loss: 0.0774 - accuracy: 0.9748\n",
            "Epoch 98/100\n",
            "87/87 [==============================] - 0s 3ms/step - loss: 0.0764 - accuracy: 0.9756\n",
            "Epoch 99/100\n",
            "87/87 [==============================] - 0s 3ms/step - loss: 0.0787 - accuracy: 0.9745\n",
            "Epoch 100/100\n",
            "87/87 [==============================] - 0s 3ms/step - loss: 0.0809 - accuracy: 0.9727\n",
            "44/44 [==============================] - 0s 2ms/step - loss: 0.1443 - accuracy: 0.9604\n",
            "Accuracy mean: 0.9412797490755717\n",
            "Accuracy variance: 0.02268284338615774\n"
          ]
        }
      ],
      "source": [
        "# Method to build the Artificial Neural Netowrk using Keras and TensorFlow\n",
        "def build_classifier():\n",
        "    classifier = Sequential() # initialize neural network\n",
        "    classifier.add(Dense(units = 7, kernel_initializer = 'uniform', activation = 'relu', input_dim = x_train.shape[1]))\n",
        "    classifier.add(Dense(units = 4, kernel_initializer = 'uniform', activation = 'relu'))\n",
        "    classifier.add(Dense(units = 1, kernel_initializer = 'uniform', activation = 'sigmoid'))\n",
        "    classifier.compile(optimizer = 'adam', loss = 'binary_crossentropy', metrics = ['accuracy'])\n",
        "    return classifier\n",
        "classifier = KerasClassifier(build_fn = build_classifier, epochs = 100)\n",
        "accuracies = cross_val_score(estimator = classifier, X = x_train, y = y_train, cv = 3)\n",
        "mean = accuracies.mean()\n",
        "variance = accuracies.std()\n",
        "print(\"Accuracy mean: \"+ str(mean))\n",
        "print(\"Accuracy variance: \"+ str(variance))"
      ]
    },
    {
      "cell_type": "code",
      "execution_count": null,
      "metadata": {
        "colab": {
          "base_uri": "https://localhost:8080/"
        },
        "id": "KpNMgtJ78nJD",
        "outputId": "98c5a2f3-230d-4d56-d1dc-7f83de01e7f9"
      },
      "outputs": [
        {
          "output_type": "stream",
          "name": "stdout",
          "text": [
            "Epoch 1/100\n",
            "131/131 [==============================] - 1s 3ms/step - loss: 0.4625 - accuracy: 0.7526\n",
            "Epoch 2/100\n",
            "131/131 [==============================] - 0s 3ms/step - loss: 0.2927 - accuracy: 0.9094\n",
            "Epoch 3/100\n",
            "131/131 [==============================] - 0s 2ms/step - loss: 0.2614 - accuracy: 0.9262\n",
            "Epoch 4/100\n",
            "131/131 [==============================] - 0s 2ms/step - loss: 0.2348 - accuracy: 0.9391\n",
            "Epoch 5/100\n",
            "131/131 [==============================] - 0s 2ms/step - loss: 0.2195 - accuracy: 0.9444\n",
            "Epoch 6/100\n",
            "131/131 [==============================] - 0s 2ms/step - loss: 0.2095 - accuracy: 0.9461\n",
            "Epoch 7/100\n",
            "131/131 [==============================] - 0s 3ms/step - loss: 0.1973 - accuracy: 0.9487\n",
            "Epoch 8/100\n",
            "131/131 [==============================] - 0s 3ms/step - loss: 0.1879 - accuracy: 0.9485\n",
            "Epoch 9/100\n",
            "131/131 [==============================] - 0s 3ms/step - loss: 0.1851 - accuracy: 0.9504\n",
            "Epoch 10/100\n",
            "131/131 [==============================] - 0s 3ms/step - loss: 0.1814 - accuracy: 0.9497\n",
            "Epoch 11/100\n",
            "131/131 [==============================] - 0s 3ms/step - loss: 0.1783 - accuracy: 0.9489\n",
            "Epoch 12/100\n",
            "131/131 [==============================] - 0s 3ms/step - loss: 0.1781 - accuracy: 0.9463\n",
            "Epoch 13/100\n",
            "131/131 [==============================] - 0s 3ms/step - loss: 0.1653 - accuracy: 0.9518\n",
            "Epoch 14/100\n",
            "131/131 [==============================] - 0s 3ms/step - loss: 0.1583 - accuracy: 0.9506\n",
            "Epoch 15/100\n",
            "131/131 [==============================] - 0s 3ms/step - loss: 0.1583 - accuracy: 0.9528\n",
            "Epoch 16/100\n",
            "131/131 [==============================] - 0s 3ms/step - loss: 0.1496 - accuracy: 0.9561\n",
            "Epoch 17/100\n",
            "131/131 [==============================] - 0s 3ms/step - loss: 0.1593 - accuracy: 0.9470\n",
            "Epoch 18/100\n",
            "131/131 [==============================] - 0s 2ms/step - loss: 0.1524 - accuracy: 0.9489\n",
            "Epoch 19/100\n",
            "131/131 [==============================] - 0s 2ms/step - loss: 0.1410 - accuracy: 0.9554\n",
            "Epoch 20/100\n",
            "131/131 [==============================] - 0s 3ms/step - loss: 0.1337 - accuracy: 0.9602\n",
            "Epoch 21/100\n",
            "131/131 [==============================] - 0s 2ms/step - loss: 0.1418 - accuracy: 0.9573\n",
            "Epoch 22/100\n",
            "131/131 [==============================] - 0s 2ms/step - loss: 0.1351 - accuracy: 0.9564\n",
            "Epoch 23/100\n",
            "131/131 [==============================] - 0s 3ms/step - loss: 0.1292 - accuracy: 0.9597\n",
            "Epoch 24/100\n",
            "131/131 [==============================] - 0s 2ms/step - loss: 0.1448 - accuracy: 0.9516\n",
            "Epoch 25/100\n",
            "131/131 [==============================] - 0s 2ms/step - loss: 0.1221 - accuracy: 0.9633\n",
            "Epoch 26/100\n",
            "131/131 [==============================] - 0s 3ms/step - loss: 0.1217 - accuracy: 0.9605\n",
            "Epoch 27/100\n",
            "131/131 [==============================] - 0s 2ms/step - loss: 0.1212 - accuracy: 0.9628\n",
            "Epoch 28/100\n",
            "131/131 [==============================] - 0s 3ms/step - loss: 0.1224 - accuracy: 0.9583\n",
            "Epoch 29/100\n",
            "131/131 [==============================] - 0s 3ms/step - loss: 0.1218 - accuracy: 0.9581\n",
            "Epoch 30/100\n",
            "131/131 [==============================] - 0s 3ms/step - loss: 0.1271 - accuracy: 0.9581\n",
            "Epoch 31/100\n",
            "131/131 [==============================] - 0s 3ms/step - loss: 0.1254 - accuracy: 0.9576\n",
            "Epoch 32/100\n",
            "131/131 [==============================] - 0s 3ms/step - loss: 0.1189 - accuracy: 0.9612\n",
            "Epoch 33/100\n",
            "131/131 [==============================] - 0s 3ms/step - loss: 0.1144 - accuracy: 0.9609\n",
            "Epoch 34/100\n",
            "131/131 [==============================] - 0s 3ms/step - loss: 0.1129 - accuracy: 0.9636\n",
            "Epoch 35/100\n",
            "131/131 [==============================] - 0s 3ms/step - loss: 0.1161 - accuracy: 0.9607\n",
            "Epoch 36/100\n",
            "131/131 [==============================] - 0s 3ms/step - loss: 0.1195 - accuracy: 0.9614\n",
            "Epoch 37/100\n",
            "131/131 [==============================] - 0s 3ms/step - loss: 0.1137 - accuracy: 0.9621\n",
            "Epoch 38/100\n",
            "131/131 [==============================] - 0s 3ms/step - loss: 0.1170 - accuracy: 0.9593\n",
            "Epoch 39/100\n",
            "131/131 [==============================] - 0s 3ms/step - loss: 0.1165 - accuracy: 0.9600\n",
            "Epoch 40/100\n",
            "131/131 [==============================] - 0s 4ms/step - loss: 0.1132 - accuracy: 0.9643\n",
            "Epoch 41/100\n",
            "131/131 [==============================] - 0s 4ms/step - loss: 0.1108 - accuracy: 0.9609\n",
            "Epoch 42/100\n",
            "131/131 [==============================] - 0s 3ms/step - loss: 0.1069 - accuracy: 0.9638\n",
            "Epoch 43/100\n",
            "131/131 [==============================] - 0s 3ms/step - loss: 0.1123 - accuracy: 0.9609\n",
            "Epoch 44/100\n",
            "131/131 [==============================] - 0s 3ms/step - loss: 0.1193 - accuracy: 0.9569\n",
            "Epoch 45/100\n",
            "131/131 [==============================] - 0s 3ms/step - loss: 0.0995 - accuracy: 0.9657\n",
            "Epoch 46/100\n",
            "131/131 [==============================] - 0s 3ms/step - loss: 0.1051 - accuracy: 0.9643\n",
            "Epoch 47/100\n",
            "131/131 [==============================] - 0s 3ms/step - loss: 0.1068 - accuracy: 0.9648\n",
            "Epoch 48/100\n",
            "131/131 [==============================] - 0s 3ms/step - loss: 0.1099 - accuracy: 0.9621\n",
            "Epoch 49/100\n",
            "131/131 [==============================] - 0s 3ms/step - loss: 0.1057 - accuracy: 0.9638\n",
            "Epoch 50/100\n",
            "131/131 [==============================] - 0s 3ms/step - loss: 0.0957 - accuracy: 0.9669\n",
            "Epoch 51/100\n",
            "131/131 [==============================] - 0s 3ms/step - loss: 0.1121 - accuracy: 0.9602\n",
            "Epoch 52/100\n",
            "131/131 [==============================] - 0s 3ms/step - loss: 0.0961 - accuracy: 0.9669\n",
            "Epoch 53/100\n",
            "131/131 [==============================] - 0s 3ms/step - loss: 0.1075 - accuracy: 0.9621\n",
            "Epoch 54/100\n",
            "131/131 [==============================] - 0s 3ms/step - loss: 0.1049 - accuracy: 0.9616\n",
            "Epoch 55/100\n",
            "131/131 [==============================] - 0s 3ms/step - loss: 0.0927 - accuracy: 0.9669\n",
            "Epoch 56/100\n",
            "131/131 [==============================] - 0s 3ms/step - loss: 0.1040 - accuracy: 0.9643\n",
            "Epoch 57/100\n",
            "131/131 [==============================] - 0s 3ms/step - loss: 0.1068 - accuracy: 0.9619\n",
            "Epoch 58/100\n",
            "131/131 [==============================] - 0s 3ms/step - loss: 0.0906 - accuracy: 0.9686\n",
            "Epoch 59/100\n",
            "131/131 [==============================] - 0s 3ms/step - loss: 0.1200 - accuracy: 0.9540\n",
            "Epoch 60/100\n",
            "131/131 [==============================] - 0s 3ms/step - loss: 0.0988 - accuracy: 0.9660\n",
            "Epoch 61/100\n",
            "131/131 [==============================] - 0s 3ms/step - loss: 0.0920 - accuracy: 0.9696\n",
            "Epoch 62/100\n",
            "131/131 [==============================] - 0s 3ms/step - loss: 0.1101 - accuracy: 0.9631\n",
            "Epoch 63/100\n",
            "131/131 [==============================] - 0s 3ms/step - loss: 0.1001 - accuracy: 0.9648\n",
            "Epoch 64/100\n",
            "131/131 [==============================] - 0s 2ms/step - loss: 0.0970 - accuracy: 0.9657\n",
            "Epoch 65/100\n",
            "131/131 [==============================] - 0s 3ms/step - loss: 0.1127 - accuracy: 0.9609\n",
            "Epoch 66/100\n",
            "131/131 [==============================] - 0s 3ms/step - loss: 0.1124 - accuracy: 0.9614\n",
            "Epoch 67/100\n",
            "131/131 [==============================] - 0s 4ms/step - loss: 0.0923 - accuracy: 0.9698\n",
            "Epoch 68/100\n",
            "131/131 [==============================] - 0s 3ms/step - loss: 0.0924 - accuracy: 0.9667\n",
            "Epoch 69/100\n",
            "131/131 [==============================] - 0s 4ms/step - loss: 0.0875 - accuracy: 0.9703\n",
            "Epoch 70/100\n",
            "131/131 [==============================] - 0s 3ms/step - loss: 0.0923 - accuracy: 0.9676\n",
            "Epoch 71/100\n",
            "131/131 [==============================] - 0s 3ms/step - loss: 0.0953 - accuracy: 0.9674\n",
            "Epoch 72/100\n",
            "131/131 [==============================] - 0s 3ms/step - loss: 0.1113 - accuracy: 0.9602\n",
            "Epoch 73/100\n",
            "131/131 [==============================] - 0s 3ms/step - loss: 0.0878 - accuracy: 0.9712\n",
            "Epoch 74/100\n",
            "131/131 [==============================] - 0s 3ms/step - loss: 0.0897 - accuracy: 0.9672\n",
            "Epoch 75/100\n",
            "131/131 [==============================] - 0s 3ms/step - loss: 0.0947 - accuracy: 0.9674\n",
            "Epoch 76/100\n",
            "131/131 [==============================] - 0s 3ms/step - loss: 0.1012 - accuracy: 0.9636\n",
            "Epoch 77/100\n",
            "131/131 [==============================] - 0s 3ms/step - loss: 0.1143 - accuracy: 0.9576\n",
            "Epoch 78/100\n",
            "131/131 [==============================] - 0s 3ms/step - loss: 0.0999 - accuracy: 0.9633\n",
            "Epoch 79/100\n",
            "131/131 [==============================] - 0s 3ms/step - loss: 0.0942 - accuracy: 0.9657\n",
            "Epoch 80/100\n",
            "131/131 [==============================] - 0s 3ms/step - loss: 0.0859 - accuracy: 0.9705\n",
            "Epoch 81/100\n",
            "131/131 [==============================] - 0s 3ms/step - loss: 0.0886 - accuracy: 0.9698\n",
            "Epoch 82/100\n",
            "131/131 [==============================] - 0s 3ms/step - loss: 0.0884 - accuracy: 0.9693\n",
            "Epoch 83/100\n",
            "131/131 [==============================] - 0s 3ms/step - loss: 0.0944 - accuracy: 0.9662\n",
            "Epoch 84/100\n",
            "131/131 [==============================] - 0s 3ms/step - loss: 0.0993 - accuracy: 0.9619\n",
            "Epoch 85/100\n",
            "131/131 [==============================] - 0s 3ms/step - loss: 0.0975 - accuracy: 0.9638\n",
            "Epoch 86/100\n",
            "131/131 [==============================] - 0s 3ms/step - loss: 0.0854 - accuracy: 0.9691\n",
            "Epoch 87/100\n",
            "131/131 [==============================] - 0s 3ms/step - loss: 0.0881 - accuracy: 0.9698\n",
            "Epoch 88/100\n",
            "131/131 [==============================] - 0s 3ms/step - loss: 0.0834 - accuracy: 0.9705\n",
            "Epoch 89/100\n",
            "131/131 [==============================] - 0s 3ms/step - loss: 0.0901 - accuracy: 0.9684\n",
            "Epoch 90/100\n",
            "131/131 [==============================] - 0s 3ms/step - loss: 0.0907 - accuracy: 0.9672\n",
            "Epoch 91/100\n",
            "131/131 [==============================] - 0s 3ms/step - loss: 0.0845 - accuracy: 0.9703\n",
            "Epoch 92/100\n",
            "131/131 [==============================] - 0s 3ms/step - loss: 0.0813 - accuracy: 0.9708\n",
            "Epoch 93/100\n",
            "131/131 [==============================] - 0s 3ms/step - loss: 0.0822 - accuracy: 0.9715\n",
            "Epoch 94/100\n",
            "131/131 [==============================] - 0s 3ms/step - loss: 0.0827 - accuracy: 0.9708\n",
            "Epoch 95/100\n",
            "131/131 [==============================] - 0s 3ms/step - loss: 0.0816 - accuracy: 0.9712\n",
            "Epoch 96/100\n",
            "131/131 [==============================] - 0s 3ms/step - loss: 0.0900 - accuracy: 0.9676\n",
            "Epoch 97/100\n",
            "131/131 [==============================] - 0s 3ms/step - loss: 0.0819 - accuracy: 0.9712\n",
            "Epoch 98/100\n",
            "131/131 [==============================] - 0s 3ms/step - loss: 0.0832 - accuracy: 0.9693\n",
            "Epoch 99/100\n",
            "131/131 [==============================] - 0s 3ms/step - loss: 0.0841 - accuracy: 0.9712\n",
            "Epoch 100/100\n",
            "131/131 [==============================] - 0s 3ms/step - loss: 0.0849 - accuracy: 0.9688\n",
            "33/33 [==============================] - 0s 2ms/step\n"
          ]
        }
      ],
      "source": [
        "classifier.fit(x_train,y_train)\n",
        "y_pred=classifier.predict(x_test)"
      ]
    },
    {
      "cell_type": "code",
      "execution_count": null,
      "metadata": {
        "colab": {
          "base_uri": "https://localhost:8080/"
        },
        "id": "oha3hVuO87MK",
        "outputId": "86346aa9-4df1-434c-f768-e371ac6c3e53"
      },
      "outputs": [
        {
          "output_type": "stream",
          "name": "stdout",
          "text": [
            "33/33 [==============================] - 0s 2ms/step - loss: 0.1409 - accuracy: 0.9492\n",
            "score :  0.9492337107658386\n"
          ]
        }
      ],
      "source": [
        "print(\"score : \",classifier.score(x_test,y_test))\n"
      ]
    },
    {
      "cell_type": "code",
      "execution_count": null,
      "metadata": {
        "colab": {
          "base_uri": "https://localhost:8080/"
        },
        "id": "q0n3ge-b9DjA",
        "outputId": "0d039945-09e6-4a39-89ca-7d302b5115f9"
      },
      "outputs": [
        {
          "output_type": "stream",
          "name": "stdout",
          "text": [
            "[[266  15]\n",
            " [ 38 725]]\n"
          ]
        }
      ],
      "source": [
        "# Print the confusion matrix for the ANN\n",
        "cm = confusion_matrix(y_test,y_pred)\n",
        "print(cm)"
      ]
    },
    {
      "cell_type": "code",
      "execution_count": null,
      "metadata": {
        "id": "b7O9aAaH2ZGY"
      },
      "outputs": [],
      "source": [
        "# END OF ANN CODE\n"
      ]
    },
    {
      "cell_type": "code",
      "execution_count": null,
      "metadata": {
        "id": "uyMc5H3pCQ2k"
      },
      "outputs": [],
      "source": [
        "# Beginning of scikit-learn SVC Code\n"
      ]
    },
    {
      "cell_type": "code",
      "execution_count": null,
      "metadata": {
        "colab": {
          "base_uri": "https://localhost:8080/"
        },
        "id": "ami9EFF0Cdo_",
        "outputId": "a62f7796-54fd-49ef-b0d3-8cdac00a0539"
      },
      "outputs": [
        {
          "output_type": "stream",
          "name": "stderr",
          "text": [
            "/usr/local/lib/python3.8/dist-packages/sklearn/utils/validation.py:993: DataConversionWarning: A column-vector y was passed when a 1d array was expected. Please change the shape of y to (n_samples, ), for example using ravel().\n",
            "  y = column_or_1d(y, warn=True)\n"
          ]
        },
        {
          "output_type": "execute_result",
          "data": {
            "text/plain": [
              "SVC(kernel='linear')"
            ]
          },
          "metadata": {},
          "execution_count": 35
        }
      ],
      "source": [
        "# Implement a support vector machine (SVM) with SVC\n",
        "svm_classifier = SVC(kernel=\"linear\") # default kernel=rbf\n",
        "# training using 'training data'\n",
        "svm_classifier.fit(x_train, y_train) # fit the model for training data"
      ]
    },
    {
      "cell_type": "code",
      "execution_count": null,
      "metadata": {
        "colab": {
          "base_uri": "https://localhost:8080/"
        },
        "id": "H3O70uU1CrLS",
        "outputId": "7b58fa6c-2a79-49ea-ddbd-7115bba89f5e"
      },
      "outputs": [
        {
          "output_type": "stream",
          "name": "stdout",
          "text": [
            "Accuracy for training data (SVM self accuracy): 1.0\n"
          ]
        }
      ],
      "source": [
        "# Use the SVM to predict the 'target' for 'training data'\n",
        "svm_prediction_training_targets = svm_classifier.predict(x_train)\n",
        "svm_self_accuracy = accuracy_score(y_train, svm_prediction_training_targets)\n",
        "print(\"Accuracy for training data (SVM self accuracy):\", svm_self_accuracy)"
      ]
    },
    {
      "cell_type": "code",
      "execution_count": null,
      "metadata": {
        "colab": {
          "base_uri": "https://localhost:8080/"
        },
        "id": "ikLQJCZ9C4uJ",
        "outputId": "5c91afff-d938-446a-fafc-870c32611fe4"
      },
      "outputs": [
        {
          "output_type": "stream",
          "name": "stdout",
          "text": [
            "Accuracy for test data (SVM): 0.9588122605363985\n"
          ]
        }
      ],
      "source": [
        "# Use the SVM to predict the 'target' for 'test data'\n",
        "svm_prediction_test_targets = svm_classifier.predict(x_test)\n",
        "svm_test_accuracy = accuracy_score(y_test, svm_prediction_test_targets)\n",
        "print(\"Accuracy for test data (SVM):\", svm_test_accuracy)"
      ]
    },
    {
      "cell_type": "code",
      "execution_count": null,
      "metadata": {
        "colab": {
          "base_uri": "https://localhost:8080/"
        },
        "id": "_dZETkEgDBAe",
        "outputId": "79c0c509-0ffd-458e-d89d-6b2f78319973"
      },
      "outputs": [
        {
          "output_type": "stream",
          "name": "stdout",
          "text": [
            "[[262  19]\n",
            " [ 24 739]]\n"
          ]
        }
      ],
      "source": [
        "# Display the SVM confusion matrix\n",
        "svm_cm = confusion_matrix(y_test,svm_prediction_test_targets)\n",
        "print(svm_cm)"
      ]
    },
    {
      "cell_type": "code",
      "execution_count": null,
      "metadata": {
        "colab": {
          "base_uri": "https://localhost:8080/"
        },
        "id": "x94w0Td040Y_",
        "outputId": "629b84cc-18fe-4619-a61a-817b96252d0b"
      },
      "outputs": [
        {
          "output_type": "execute_result",
          "data": {
            "text/plain": [
              "DecisionTreeClassifier()"
            ]
          },
          "metadata": {},
          "execution_count": 39
        }
      ],
      "source": [
        "# Use the Decision Tree Classifier\n",
        "dtc_classifier = DecisionTreeClassifier()\n",
        "# training using 'training data'\n",
        "dtc_classifier.fit(x_train, y_train) # fit the model for training data"
      ]
    },
    {
      "cell_type": "code",
      "execution_count": null,
      "metadata": {
        "colab": {
          "base_uri": "https://localhost:8080/"
        },
        "id": "UAnJitjj48j2",
        "outputId": "4c2690aa-60b9-4eaf-854f-16c05baa54b8"
      },
      "outputs": [
        {
          "output_type": "stream",
          "name": "stdout",
          "text": [
            "Accuracy for training data (dtc self accuracy): 1.0\n"
          ]
        }
      ],
      "source": [
        "# predict the 'target' for 'training data'\n",
        "dtc_prediction_training_targets = dtc_classifier.predict(x_train)\n",
        "dtc_self_accuracy = accuracy_score(y_train, dtc_prediction_training_targets)\n",
        "print(\"Accuracy for training data (dtc self accuracy):\", dtc_self_accuracy)"
      ]
    },
    {
      "cell_type": "code",
      "execution_count": null,
      "metadata": {
        "colab": {
          "base_uri": "https://localhost:8080/"
        },
        "id": "AvXhgJyW5BBH",
        "outputId": "c524bf85-bb1b-4df2-f215-0a2f8d9dd2ad"
      },
      "outputs": [
        {
          "output_type": "stream",
          "name": "stdout",
          "text": [
            "Accuracy for test data (DTC): 0.8812260536398467\n"
          ]
        }
      ],
      "source": [
        "# predict the 'target' for 'test data'\n",
        "dtc_prediction_test_targets = dtc_classifier.predict(x_test)\n",
        "dtc_test_accuracy = accuracy_score(y_test, dtc_prediction_test_targets)\n",
        "print(\"Accuracy for test data (DTC):\", dtc_test_accuracy)"
      ]
    },
    {
      "cell_type": "code",
      "execution_count": null,
      "metadata": {
        "colab": {
          "base_uri": "https://localhost:8080/"
        },
        "id": "4LTbAqEF5Frg",
        "outputId": "21d3abbd-b9a0-486a-c4fa-0e4fe6c9736b"
      },
      "outputs": [
        {
          "output_type": "stream",
          "name": "stdout",
          "text": [
            "[[217  64]\n",
            " [ 60 703]]\n"
          ]
        }
      ],
      "source": [
        "# Print the confusion matrix\n",
        "dtc_cm = confusion_matrix(y_test, dtc_prediction_test_targets)\n",
        "print(dtc_cm)"
      ]
    },
    {
      "cell_type": "code",
      "execution_count": null,
      "metadata": {
        "colab": {
          "base_uri": "https://localhost:8080/"
        },
        "id": "kM5PdO1S5Mxj",
        "outputId": "e8193041-f591-4897-ce28-ee2bc3e0f972"
      },
      "outputs": [
        {
          "output_type": "stream",
          "name": "stderr",
          "text": [
            "/usr/local/lib/python3.8/dist-packages/sklearn/neighbors/_classification.py:198: DataConversionWarning: A column-vector y was passed when a 1d array was expected. Please change the shape of y to (n_samples,), for example using ravel().\n",
            "  return self._fit(X, y)\n"
          ]
        },
        {
          "output_type": "execute_result",
          "data": {
            "text/plain": [
              "KNeighborsClassifier(n_neighbors=10)"
            ]
          },
          "metadata": {},
          "execution_count": 43
        }
      ],
      "source": [
        "# Use K-Nearest Neighbors (k-NN) Classifier\n",
        "knn_classifier = KNeighborsClassifier(n_neighbors=10)\n",
        "# training using 'training data'\n",
        "knn_classifier.fit(x_train, y_train) # fit the model for training data"
      ]
    },
    {
      "cell_type": "code",
      "execution_count": null,
      "metadata": {
        "colab": {
          "base_uri": "https://localhost:8080/"
        },
        "id": "pyUfu-Si5SJc",
        "outputId": "b9d3bca1-7a9f-4a30-8f87-1c1ae77f40a8"
      },
      "outputs": [
        {
          "output_type": "stream",
          "name": "stdout",
          "text": [
            "Accuracy for training data (knn self accuracy): 0.9566155321188878\n"
          ]
        }
      ],
      "source": [
        "# predict the 'target' for 'training data'\n",
        "knn_prediction_training_targets = knn_classifier.predict(x_train)\n",
        "knn_self_accuracy = accuracy_score(y_train, knn_prediction_training_targets)\n",
        "print(\"Accuracy for training data (knn self accuracy):\", knn_self_accuracy)"
      ]
    },
    {
      "cell_type": "code",
      "execution_count": null,
      "metadata": {
        "colab": {
          "base_uri": "https://localhost:8080/"
        },
        "id": "2fWay1hC5Yt4",
        "outputId": "3df30322-0b36-444f-e558-6bd63728b5bb"
      },
      "outputs": [
        {
          "output_type": "stream",
          "name": "stdout",
          "text": [
            "Accuracy for test data (KNN): 0.9482758620689655\n"
          ]
        }
      ],
      "source": [
        "# predict the 'target' for 'test data'\n",
        "knn_prediction_test_targets = knn_classifier.predict(x_test)\n",
        "knn_test_accuracy = accuracy_score(y_test, knn_prediction_test_targets)\n",
        "print(\"Accuracy for test data (KNN):\", knn_test_accuracy)"
      ]
    },
    {
      "cell_type": "code",
      "execution_count": null,
      "metadata": {
        "colab": {
          "base_uri": "https://localhost:8080/"
        },
        "id": "RIMRttsg5egw",
        "outputId": "919da2c3-1bb5-43b3-9a99-142b3ebbf743"
      },
      "outputs": [
        {
          "output_type": "stream",
          "name": "stdout",
          "text": [
            "[[246  35]\n",
            " [ 19 744]]\n"
          ]
        }
      ],
      "source": [
        "from sklearn.metrics import confusion_matrix\n",
        "knn_cm = confusion_matrix(y_test, knn_prediction_test_targets)\n",
        "print(knn_cm)"
      ]
    },
    {
      "cell_type": "code",
      "execution_count": null,
      "metadata": {
        "id": "V2I1DgoyDfw-"
      },
      "outputs": [],
      "source": [
        "# End scikit-learn section"
      ]
    }
  ],
  "metadata": {
    "colab": {
      "provenance": []
    },
    "kernelspec": {
      "display_name": "Python 3",
      "name": "python3"
    },
    "language_info": {
      "name": "python"
    }
  },
  "nbformat": 4,
  "nbformat_minor": 0
}